{
 "cells": [
  {
   "cell_type": "code",
   "execution_count": 1,
   "metadata": {},
   "outputs": [],
   "source": [
    "import fastf1\n",
    "import pandas as pd\n",
    "\n",
    "def get_driver_data(driver):\n",
    "    session = fastf1.get_session(2024, 'Silverstone', 'R')\n",
    "    session.load()\n",
    "    driver_data = session.laps.pick_driver(driver)\n",
    "    driver_df = pd.DataFrame(driver_data)\n",
    "    return driver_df\n",
    "    "
   ]
  },
  {
   "cell_type": "code",
   "execution_count": 29,
   "metadata": {},
   "outputs": [],
   "source": [
    "def adjust_laptimes(dataframe):\n",
    "    dataframe[\"Laptime\"] = dataframe[\"LapTime\"].astype(int) * 1e-9  # Converts LapTime to seconds\n",
    "    dataframe[\"Position(s)\"] = dataframe[\"Position\"].astype(int)  # Converts Position to integer\n",
    "    new_df = dataframe.drop(columns=[\"LapTime\", \"Position\"])  # Drops LapTime and Position columns\n",
    "    new_df = new_df.rename(columns={\"Position(s)\": \"Position\"})  # Renames Position(s) to Position\n",
    "    return new_df\n",
    "\n",
    "def get_common(dataframe):\n",
    "    new_df = dataframe[[\"LapNumber\", \"TrackStatus\"]]  # Selects only LapNumber and TrackStatus\n",
    "    return new_df\n",
    "\n",
    "def get_pitstop(dataframe):\n",
    "    # Replace NaT or NaN with 0 for both columns\n",
    "    dataframe[\"PitInTime\"] = dataframe[\"PitInTime\"].fillna(pd.Timedelta(0))\n",
    "    dataframe[\"PitOutTime\"] = dataframe[\"PitOutTime\"].fillna(pd.Timedelta(0))\n",
    "    \n",
    "    # Convert Timedelta to seconds using total_seconds()\n",
    "    dataframe[\"PitInTime\"] = dataframe[\"PitInTime\"].apply(lambda x: x.total_seconds() if isinstance(x, pd.Timedelta) else x)\n",
    "    dataframe[\"PitOutTime\"] = dataframe[\"PitOutTime\"].apply(lambda x: x.total_seconds() if isinstance(x, pd.Timedelta) else x)\n",
    "    \n",
    "    # Create the PitstopTime column as the difference between PitOutTime and PitInTime\n",
    "    dataframe[\"PitstopTime\"] = dataframe[\"PitOutTime\"] - dataframe[\"PitInTime\"]\n",
    "    \n",
    "    return dataframe\n"
   ]
  },
  {
   "cell_type": "code",
   "execution_count": 26,
   "metadata": {},
   "outputs": [],
   "source": [
    "def remove_extras(dataframe):\n",
    "    new_df = dataframe[[\"Driver\", \"Laptime\", \"PitStopTime\", \"Position\", \"Compound\", \"Position\"]]  # Drops unnecessary columns\n",
    "    return new_df\n"
   ]
  },
  {
   "cell_type": "code",
   "execution_count": 36,
   "metadata": {},
   "outputs": [
    {
     "name": "stderr",
     "output_type": "stream",
     "text": [
      "core           INFO \tLoading data for British Grand Prix - Race [v3.4.1]\n",
      "req            INFO \tUsing cached data for session_info\n",
      "req            INFO \tUsing cached data for driver_info\n",
      "req            INFO \tUsing cached data for session_status_data\n",
      "req            INFO \tUsing cached data for lap_count\n",
      "req            INFO \tUsing cached data for track_status_data\n",
      "req            INFO \tUsing cached data for _extended_timing_data\n",
      "req            INFO \tUsing cached data for timing_app_data\n",
      "core           INFO \tProcessing timing data...\n",
      "req            INFO \tUsing cached data for car_data\n",
      "req            INFO \tUsing cached data for position_data\n",
      "req            INFO \tUsing cached data for weather_data\n",
      "req            INFO \tUsing cached data for race_control_messages\n",
      "core           INFO \tFinished loading data for 20 drivers: ['44', '1', '4', '81', '55', '27', '18', '14', '23', '22', '2', '20', '3', '16', '77', '31', '11', '24', '63', '10']\n",
      "c:\\Users\\smmey\\AppData\\Local\\Programs\\Python\\Python312\\Lib\\site-packages\\fastf1\\core.py:3022: FutureWarning: pick_driver is deprecated and will be removed in a future release. Use pick_drivers instead.\n",
      "  warnings.warn((\"pick_driver is deprecated and will be removed\"\n"
     ]
    },
    {
     "data": {
      "text/plain": [
       "726          MEDIUM\n",
       "727          MEDIUM\n",
       "728          MEDIUM\n",
       "729          MEDIUM\n",
       "730          MEDIUM\n",
       "731          MEDIUM\n",
       "732          MEDIUM\n",
       "733          MEDIUM\n",
       "734          MEDIUM\n",
       "735          MEDIUM\n",
       "736          MEDIUM\n",
       "737          MEDIUM\n",
       "738          MEDIUM\n",
       "739          MEDIUM\n",
       "740          MEDIUM\n",
       "741          MEDIUM\n",
       "742          MEDIUM\n",
       "743          MEDIUM\n",
       "744          MEDIUM\n",
       "745          MEDIUM\n",
       "746          MEDIUM\n",
       "747          MEDIUM\n",
       "748          MEDIUM\n",
       "749          MEDIUM\n",
       "750          MEDIUM\n",
       "751          MEDIUM\n",
       "752    INTERMEDIATE\n",
       "753    INTERMEDIATE\n",
       "754    INTERMEDIATE\n",
       "755    INTERMEDIATE\n",
       "756    INTERMEDIATE\n",
       "757    INTERMEDIATE\n",
       "758    INTERMEDIATE\n",
       "759    INTERMEDIATE\n",
       "760    INTERMEDIATE\n",
       "761    INTERMEDIATE\n",
       "762    INTERMEDIATE\n",
       "763            SOFT\n",
       "764            SOFT\n",
       "765            SOFT\n",
       "766            SOFT\n",
       "767            SOFT\n",
       "768            SOFT\n",
       "769            SOFT\n",
       "770            SOFT\n",
       "771            SOFT\n",
       "772            SOFT\n",
       "773            SOFT\n",
       "774            SOFT\n",
       "775            SOFT\n",
       "776            SOFT\n",
       "Name: Compound, dtype: object"
      ]
     },
     "execution_count": 36,
     "metadata": {},
     "output_type": "execute_result"
    },
    {
     "ename": "",
     "evalue": "",
     "output_type": "error",
     "traceback": [
      "\u001b[1;31mThe Kernel crashed while executing code in the current cell or a previous cell. \n",
      "\u001b[1;31mPlease review the code in the cell(s) to identify a possible cause of the failure. \n",
      "\u001b[1;31mClick <a href='https://aka.ms/vscodeJupyterKernelCrash'>here</a> for more info. \n",
      "\u001b[1;31mView Jupyter <a href='command:jupyter.viewOutput'>log</a> for further details."
     ]
    }
   ],
   "source": [
    "bot = get_driver_data(\"BOT\")  # Fetch driver data\n",
    "bot_df = adjust_laptimes(bot)  # Adjust lap times\n",
    "bot_df_2 = get_pitstop(bot_df)\n",
    "bot_df_3 = remove_extras(bot_df_2)\n"
   ]
  }
 ],
 "metadata": {
  "kernelspec": {
   "display_name": "Python 3",
   "language": "python",
   "name": "python3"
  },
  "language_info": {
   "codemirror_mode": {
    "name": "ipython",
    "version": 3
   },
   "file_extension": ".py",
   "mimetype": "text/x-python",
   "name": "python",
   "nbconvert_exporter": "python",
   "pygments_lexer": "ipython3",
   "version": "3.12.6"
  }
 },
 "nbformat": 4,
 "nbformat_minor": 2
}
